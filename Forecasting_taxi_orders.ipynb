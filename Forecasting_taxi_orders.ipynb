{
 "cells": [
  {
   "cell_type": "markdown",
   "metadata": {},
   "source": [
    "#  Прогнозирование заказов такси"
   ]
  },
  {
   "cell_type": "markdown",
   "metadata": {},
   "source": [
    "***Описание проекта:*** "
   ]
  },
  {
   "cell_type": "markdown",
   "metadata": {},
   "source": [
    "Компания «Чётенькое такси» собрала исторические данные о заказах такси в аэропортах. Чтобы привлекать больше водителей в период пиковой нагрузки, нужно спрогнозировать количество заказов такси на следующий час. Постройте модель для такого предсказания.\n",
    "\n",
    "Значение метрики *RMSE* на тестовой выборке должно быть не больше 48."
   ]
  },
  {
   "cell_type": "markdown",
   "metadata": {},
   "source": [
    "***Описание данных:***"
   ]
  },
  {
   "cell_type": "markdown",
   "metadata": {},
   "source": [
    "- `num_orders` — число заказов."
   ]
  },
  {
   "cell_type": "markdown",
   "metadata": {},
   "source": [
    "***План работы над проектом:***"
   ]
  },
  {
   "cell_type": "markdown",
   "metadata": {},
   "source": [
    "1. Подготовка данных\n",
    "2. Анализ данных\n",
    "3. Обучение моделей\n",
    "4. Тестирование модели\n",
    "5. Общий вывод"
   ]
  },
  {
   "cell_type": "markdown",
   "metadata": {},
   "source": [
    "## Подготовка данных"
   ]
  },
  {
   "cell_type": "code",
   "execution_count": 1,
   "metadata": {},
   "outputs": [],
   "source": [
    "import numpy as np\n",
    "import pandas as pd\n",
    "import matplotlib.pyplot as plt\n",
    "import seaborn as sns\n",
    "\n",
    "from catboost import CatBoostRegressor\n",
    "from lightgbm import LGBMRegressor\n",
    "from sklearn.ensemble import RandomForestRegressor\n",
    "from sklearn.linear_model import LinearRegression\n",
    "from sklearn.model_selection import (\n",
    "    train_test_split,\n",
    "    GridSearchCV,\n",
    "    TimeSeriesSplit)\n",
    "\n",
    "from sklearn.metrics import (\n",
    "    mean_squared_error,\n",
    "    make_scorer)\n",
    "\n",
    "from statsmodels.tsa.seasonal import seasonal_decompose\n",
    "\n",
    "sns.set(rc={'figure.figsize': (10,7)})"
   ]
  },
  {
   "cell_type": "code",
   "execution_count": 2,
   "metadata": {},
   "outputs": [],
   "source": [
    "def start(df):\n",
    "        df.info()\n",
    "        print('\\n',df.describe())\n",
    "        display(df.sample(5))\n",
    "        print('Количество пропусков в таблице:', df.isna().sum().sum(), '\\n')\n",
    "        print(df.isna().sum(), '\\n')\n",
    "        print('Количество дубликатов в таблице:',  df.duplicated().sum())\n",
    "        df.hist(figsize=(10, 6));"
   ]
  },
  {
   "cell_type": "code",
   "execution_count": 3,
   "metadata": {
    "scrolled": false
   },
   "outputs": [
    {
     "name": "stdout",
     "output_type": "stream",
     "text": [
      "<class 'pandas.core.frame.DataFrame'>\n",
      "RangeIndex: 26496 entries, 0 to 26495\n",
      "Data columns (total 2 columns):\n",
      " #   Column      Non-Null Count  Dtype \n",
      "---  ------      --------------  ----- \n",
      " 0   datetime    26496 non-null  object\n",
      " 1   num_orders  26496 non-null  int64 \n",
      "dtypes: int64(1), object(1)\n",
      "memory usage: 414.1+ KB\n",
      "\n",
      "          num_orders\n",
      "count  26496.000000\n",
      "mean      14.070463\n",
      "std        9.211330\n",
      "min        0.000000\n",
      "25%        8.000000\n",
      "50%       13.000000\n",
      "75%       19.000000\n",
      "max      119.000000\n"
     ]
    },
    {
     "data": {
      "text/html": [
       "<div>\n",
       "<style scoped>\n",
       "    .dataframe tbody tr th:only-of-type {\n",
       "        vertical-align: middle;\n",
       "    }\n",
       "\n",
       "    .dataframe tbody tr th {\n",
       "        vertical-align: top;\n",
       "    }\n",
       "\n",
       "    .dataframe thead th {\n",
       "        text-align: right;\n",
       "    }\n",
       "</style>\n",
       "<table border=\"1\" class=\"dataframe\">\n",
       "  <thead>\n",
       "    <tr style=\"text-align: right;\">\n",
       "      <th></th>\n",
       "      <th>datetime</th>\n",
       "      <th>num_orders</th>\n",
       "    </tr>\n",
       "  </thead>\n",
       "  <tbody>\n",
       "    <tr>\n",
       "      <th>17270</th>\n",
       "      <td>2018-06-28 22:20:00</td>\n",
       "      <td>8</td>\n",
       "    </tr>\n",
       "    <tr>\n",
       "      <th>275</th>\n",
       "      <td>2018-03-02 21:50:00</td>\n",
       "      <td>16</td>\n",
       "    </tr>\n",
       "    <tr>\n",
       "      <th>16827</th>\n",
       "      <td>2018-06-25 20:30:00</td>\n",
       "      <td>7</td>\n",
       "    </tr>\n",
       "    <tr>\n",
       "      <th>593</th>\n",
       "      <td>2018-03-05 02:50:00</td>\n",
       "      <td>2</td>\n",
       "    </tr>\n",
       "    <tr>\n",
       "      <th>11538</th>\n",
       "      <td>2018-05-20 03:00:00</td>\n",
       "      <td>21</td>\n",
       "    </tr>\n",
       "  </tbody>\n",
       "</table>\n",
       "</div>"
      ],
      "text/plain": [
       "                  datetime  num_orders\n",
       "17270  2018-06-28 22:20:00           8\n",
       "275    2018-03-02 21:50:00          16\n",
       "16827  2018-06-25 20:30:00           7\n",
       "593    2018-03-05 02:50:00           2\n",
       "11538  2018-05-20 03:00:00          21"
      ]
     },
     "metadata": {},
     "output_type": "display_data"
    },
    {
     "name": "stdout",
     "output_type": "stream",
     "text": [
      "Количество пропусков в таблице: 0 \n",
      "\n",
      "datetime      0\n",
      "num_orders    0\n",
      "dtype: int64 \n",
      "\n",
      "Количество дубликатов в таблице: 0\n"
     ]
    },
    {
     "data": {
      "image/png": "[encoded data removed]",
      "text/plain": [
       "<Figure size 720x432 with 1 Axes>"
      ]
     },
     "metadata": {},
     "output_type": "display_data"
    }
   ],
   "source": [
    "data = pd.read_csv('taxi.csv')\n",
    "start(data)"
   ]
  },
  {
   "cell_type": "markdown",
   "metadata": {},
   "source": [
    "В таблице у нас `2` стоблца. Пропуски и дубликаты отсутствуют. По графику количества заказов мы заметили, что основные значения эт диапазон `от 0 до 20`. Продолжим подготовку данных для нашего исследования. Проведём ресемплирование по `1` часу."
   ]
  },
  {
   "cell_type": "markdown",
   "metadata": {},
   "source": [
    "Для этого первый столбец в датой и временем переведём в соответствующий тип данных и обозначим его как индекс таблицы."
   ]
  },
  {
   "cell_type": "code",
   "execution_count": 4,
   "metadata": {},
   "outputs": [
    {
     "name": "stdout",
     "output_type": "stream",
     "text": [
      "True\n"
     ]
    }
   ],
   "source": [
    "data['datetime'] = pd.to_datetime(data['datetime'])\n",
    "data = data.set_index('datetime').sort_index(ascending=True)\n",
    "\n",
    "print(data.index.is_monotonic)"
   ]
  },
  {
   "cell_type": "markdown",
   "metadata": {},
   "source": [
    "Отсортировав индекс мы убедили, что данные расположены в хронологическом порядке. Непосредственно сделаем ресемплирование."
   ]
  },
  {
   "cell_type": "code",
   "execution_count": 5,
   "metadata": {},
   "outputs": [
    {
     "data": {
      "text/html": [
       "<div>\n",
       "<style scoped>\n",
       "    .dataframe tbody tr th:only-of-type {\n",
       "        vertical-align: middle;\n",
       "    }\n",
       "\n",
       "    .dataframe tbody tr th {\n",
       "        vertical-align: top;\n",
       "    }\n",
       "\n",
       "    .dataframe thead th {\n",
       "        text-align: right;\n",
       "    }\n",
       "</style>\n",
       "<table border=\"1\" class=\"dataframe\">\n",
       "  <thead>\n",
       "    <tr style=\"text-align: right;\">\n",
       "      <th></th>\n",
       "      <th>num_orders</th>\n",
       "    </tr>\n",
       "    <tr>\n",
       "      <th>datetime</th>\n",
       "      <th></th>\n",
       "    </tr>\n",
       "  </thead>\n",
       "  <tbody>\n",
       "    <tr>\n",
       "      <th>2018-06-06 09:00:00</th>\n",
       "      <td>83</td>\n",
       "    </tr>\n",
       "    <tr>\n",
       "      <th>2018-05-10 01:00:00</th>\n",
       "      <td>74</td>\n",
       "    </tr>\n",
       "    <tr>\n",
       "      <th>2018-07-18 17:00:00</th>\n",
       "      <td>129</td>\n",
       "    </tr>\n",
       "  </tbody>\n",
       "</table>\n",
       "</div>"
      ],
      "text/plain": [
       "                     num_orders\n",
       "datetime                       \n",
       "2018-06-06 09:00:00          83\n",
       "2018-05-10 01:00:00          74\n",
       "2018-07-18 17:00:00         129"
      ]
     },
     "execution_count": 5,
     "metadata": {},
     "output_type": "execute_result"
    }
   ],
   "source": [
    "data = data.resample('1H').sum()\n",
    "data.sample(3)"
   ]
  },
  {
   "cell_type": "markdown",
   "metadata": {},
   "source": [
    "**Вывод:** В начале работы мы познакомились с данными. И провели предобработку, прежде чем обучать модели. Что именно было сделано:\n",
    "- в исходных данных у нас `2` стоблца; \n",
    "- пропуски и дубликаты отсутствуют; \n",
    "- по графику количества заказов мы заметили, что основные значения в диапазоне `от 0 до 20`;\n",
    "- первый столбец (`datetime`) с датой и временем перевели в соответствующий тип данных и обозначили его как индекс таблицы;\n",
    "- отсортировали индекс в хронологическом порядке и сделали ресемплирование данных по `1` часу."
   ]
  },
  {
   "cell_type": "markdown",
   "metadata": {},
   "source": [
    "## Анализ данных"
   ]
  },
  {
   "cell_type": "markdown",
   "metadata": {},
   "source": [
    "Для начала мы посмотрим на данные со стороны наличия трендов и сезонности."
   ]
  },
  {
   "cell_type": "code",
   "execution_count": 6,
   "metadata": {},
   "outputs": [
    {
     "data": {
      "image/png": "[encoded data removed]",
      "text/plain": [
       "<Figure size 1152x576 with 3 Axes>"
      ]
     },
     "metadata": {},
     "output_type": "display_data"
    }
   ],
   "source": [
    "decomposed = seasonal_decompose(data)\n",
    "\n",
    "plt.figure(figsize=(16, 8))\n",
    "plt.subplot(311)\n",
    "decomposed.trend.plot(ax=plt.gca())\n",
    "plt.title('Trend')\n",
    "plt.subplot(312)\n",
    "decomposed.seasonal.plot(ax=plt.gca())\n",
    "plt.title('Seasonality')\n",
    "plt.subplot(313)\n",
    "decomposed.resid.plot(ax=plt.gca())\n",
    "plt.title('Residuals')\n",
    "plt.tight_layout()"
   ]
  },
  {
   "cell_type": "markdown",
   "metadata": {},
   "source": [
    "Видим, что данные у нас на 2018 год и с марта по сентябрь. Поэтому по годовой сезонности мы никакие выводы не сможем сделать, однако видно некий тренд, который говорит, что с июля по сентябрь закзов такси в аэропорты больше."
   ]
  },
  {
   "cell_type": "markdown",
   "metadata": {},
   "source": [
    "Посмотрим сезонность на более коротком интервале. Это будет 20 дней апреля."
   ]
  },
  {
   "cell_type": "code",
   "execution_count": 7,
   "metadata": {},
   "outputs": [
    {
     "data": {
      "image/png": "[encoded data removed]",
      "text/plain": [
       "<Figure size 720x504 with 1 Axes>"
      ]
     },
     "metadata": {},
     "output_type": "display_data"
    }
   ],
   "source": [
    "data_season = data.resample('1D').sum()\n",
    "decomposed = seasonal_decompose(data_season)\n",
    "\n",
    "decomposed.seasonal['2018-04-01':'2018-04-20'].plot();"
   ]
  },
  {
   "cell_type": "markdown",
   "metadata": {},
   "source": [
    "Мы видим, что в данных присутствует сезонность в масштабах недели, а именно, что наименьший поток заказов приходится на вторник недели, а пики заказов заметны в пятницу и понедельник."
   ]
  },
  {
   "cell_type": "markdown",
   "metadata": {},
   "source": [
    "Далее мы создадим ещё один столбец в котором выделим часы работы. На графике отобразим сгруппированые значения заказов по каждому часу. Посмотрим распределение в течение суток."
   ]
  },
  {
   "cell_type": "code",
   "execution_count": 8,
   "metadata": {},
   "outputs": [],
   "source": [
    "data['hours'] = data.index.hour"
   ]
  },
  {
   "cell_type": "code",
   "execution_count": 9,
   "metadata": {},
   "outputs": [
    {
     "data": {
      "image/png": "[encoded data removed]",
      "text/plain": [
       "<Figure size 720x504 with 1 Axes>"
      ]
     },
     "metadata": {},
     "output_type": "display_data"
    }
   ],
   "source": [
    "data.groupby('hours')['num_orders'].sum().plot(kind='line');\n",
    "\n",
    "# добавление заголовков и меток осей\n",
    "plt.title('Граппировка заказов по часовому интервалу')\n",
    "plt.xlabel('Часы')\n",
    "plt.ylabel('Заказы')\n",
    "\n",
    "# установка меток на оси x\n",
    "plt.xticks(range(0, 24))\n",
    "\n",
    "plt.show()"
   ]
  },
  {
   "cell_type": "markdown",
   "metadata": {},
   "source": [
    "По графику видно, что меньше всего заказов выпадает на `6 утра`, а пиковая нагрузка на `полночь`."
   ]
  },
  {
   "cell_type": "code",
   "execution_count": 10,
   "metadata": {},
   "outputs": [],
   "source": [
    "# удалим вспомогатльный столбец из таблицы\n",
    "data = data.drop('hours', axis=1)"
   ]
  },
  {
   "cell_type": "markdown",
   "metadata": {},
   "source": [
    "**Вывод:** Для начала мы посмотрели на данные со стороны наличия трендов и сезонности и обраружили, что данные у нас на `2018 год и с марта по сентябрь`. Поэтому по годовой сезонности мы никакие выводы не смогли сделать, однако увидели некий тренд, который говорит, что `с июля по сентябрь закзов такси в аэропорты больше`. Так же мы посмотрели сезонность в масштабах недели. Взяли для этого срез данных - первые `20` дней апреля. Увидели, что наименьший поток заказов приходится на вторник недели, а пики заказов заметны в пятницу и понедельник. Далее мы создали ещё один столбец в котором выделили часы работы в течение суток. Построили график и увидели, что меньше всего заказов выпадает на `6` утра, а пиковая нагрузка на `полночь`."
   ]
  },
  {
   "cell_type": "markdown",
   "metadata": {},
   "source": [
    "## Обучение моделей"
   ]
  },
  {
   "cell_type": "markdown",
   "metadata": {},
   "source": [
    "Для начала обучения добавим в таблицу новые признаки. Используем функцию, которая у нас есть в наличие."
   ]
  },
  {
   "cell_type": "code",
   "execution_count": 11,
   "metadata": {},
   "outputs": [],
   "source": [
    "def make_features(data, max_lag, rolling_mean_size):\n",
    "    data['day'] = data.index.day\n",
    "    data['dayofweek'] = data.index.dayofweek\n",
    "    \n",
    "    for lag in range(1, max_lag + 1):\n",
    "        data['lag_{}'.format(lag)] = data['num_orders'].shift(lag)\n",
    "\n",
    "    data['rolling_mean'] = data['num_orders'].shift().rolling(rolling_mean_size).mean()"
   ]
  },
  {
   "cell_type": "code",
   "execution_count": 12,
   "metadata": {},
   "outputs": [
    {
     "data": {
      "text/html": [
       "<div>\n",
       "<style scoped>\n",
       "    .dataframe tbody tr th:only-of-type {\n",
       "        vertical-align: middle;\n",
       "    }\n",
       "\n",
       "    .dataframe tbody tr th {\n",
       "        vertical-align: top;\n",
       "    }\n",
       "\n",
       "    .dataframe thead th {\n",
       "        text-align: right;\n",
       "    }\n",
       "</style>\n",
       "<table border=\"1\" class=\"dataframe\">\n",
       "  <thead>\n",
       "    <tr style=\"text-align: right;\">\n",
       "      <th></th>\n",
       "      <th>num_orders</th>\n",
       "      <th>day</th>\n",
       "      <th>dayofweek</th>\n",
       "      <th>lag_1</th>\n",
       "      <th>lag_2</th>\n",
       "      <th>lag_3</th>\n",
       "      <th>lag_4</th>\n",
       "      <th>lag_5</th>\n",
       "      <th>lag_6</th>\n",
       "      <th>lag_7</th>\n",
       "      <th>...</th>\n",
       "      <th>lag_16</th>\n",
       "      <th>lag_17</th>\n",
       "      <th>lag_18</th>\n",
       "      <th>lag_19</th>\n",
       "      <th>lag_20</th>\n",
       "      <th>lag_21</th>\n",
       "      <th>lag_22</th>\n",
       "      <th>lag_23</th>\n",
       "      <th>lag_24</th>\n",
       "      <th>rolling_mean</th>\n",
       "    </tr>\n",
       "    <tr>\n",
       "      <th>datetime</th>\n",
       "      <th></th>\n",
       "      <th></th>\n",
       "      <th></th>\n",
       "      <th></th>\n",
       "      <th></th>\n",
       "      <th></th>\n",
       "      <th></th>\n",
       "      <th></th>\n",
       "      <th></th>\n",
       "      <th></th>\n",
       "      <th></th>\n",
       "      <th></th>\n",
       "      <th></th>\n",
       "      <th></th>\n",
       "      <th></th>\n",
       "      <th></th>\n",
       "      <th></th>\n",
       "      <th></th>\n",
       "      <th></th>\n",
       "      <th></th>\n",
       "      <th></th>\n",
       "    </tr>\n",
       "  </thead>\n",
       "  <tbody>\n",
       "    <tr>\n",
       "      <th>2018-04-21 21:00:00</th>\n",
       "      <td>57</td>\n",
       "      <td>21</td>\n",
       "      <td>5</td>\n",
       "      <td>67.0</td>\n",
       "      <td>70.0</td>\n",
       "      <td>45.0</td>\n",
       "      <td>61.0</td>\n",
       "      <td>81.0</td>\n",
       "      <td>81.0</td>\n",
       "      <td>67.0</td>\n",
       "      <td>...</td>\n",
       "      <td>43.0</td>\n",
       "      <td>80.0</td>\n",
       "      <td>70.0</td>\n",
       "      <td>110.0</td>\n",
       "      <td>119.0</td>\n",
       "      <td>167.0</td>\n",
       "      <td>96.0</td>\n",
       "      <td>150.0</td>\n",
       "      <td>114.0</td>\n",
       "      <td>72.2500</td>\n",
       "    </tr>\n",
       "    <tr>\n",
       "      <th>2018-07-24 21:00:00</th>\n",
       "      <td>113</td>\n",
       "      <td>24</td>\n",
       "      <td>1</td>\n",
       "      <td>82.0</td>\n",
       "      <td>81.0</td>\n",
       "      <td>118.0</td>\n",
       "      <td>120.0</td>\n",
       "      <td>112.0</td>\n",
       "      <td>114.0</td>\n",
       "      <td>116.0</td>\n",
       "      <td>...</td>\n",
       "      <td>66.0</td>\n",
       "      <td>104.0</td>\n",
       "      <td>144.0</td>\n",
       "      <td>101.0</td>\n",
       "      <td>149.0</td>\n",
       "      <td>165.0</td>\n",
       "      <td>79.0</td>\n",
       "      <td>104.0</td>\n",
       "      <td>119.0</td>\n",
       "      <td>108.2500</td>\n",
       "    </tr>\n",
       "    <tr>\n",
       "      <th>2018-08-10 10:00:00</th>\n",
       "      <td>153</td>\n",
       "      <td>10</td>\n",
       "      <td>4</td>\n",
       "      <td>81.0</td>\n",
       "      <td>67.0</td>\n",
       "      <td>62.0</td>\n",
       "      <td>44.0</td>\n",
       "      <td>47.0</td>\n",
       "      <td>122.0</td>\n",
       "      <td>80.0</td>\n",
       "      <td>...</td>\n",
       "      <td>90.0</td>\n",
       "      <td>178.0</td>\n",
       "      <td>150.0</td>\n",
       "      <td>80.0</td>\n",
       "      <td>65.0</td>\n",
       "      <td>79.0</td>\n",
       "      <td>123.0</td>\n",
       "      <td>85.0</td>\n",
       "      <td>149.0</td>\n",
       "      <td>107.5625</td>\n",
       "    </tr>\n",
       "  </tbody>\n",
       "</table>\n",
       "<p>3 rows × 28 columns</p>\n",
       "</div>"
      ],
      "text/plain": [
       "                     num_orders  day  dayofweek  lag_1  lag_2  lag_3  lag_4  \\\n",
       "datetime                                                                      \n",
       "2018-04-21 21:00:00          57   21          5   67.0   70.0   45.0   61.0   \n",
       "2018-07-24 21:00:00         113   24          1   82.0   81.0  118.0  120.0   \n",
       "2018-08-10 10:00:00         153   10          4   81.0   67.0   62.0   44.0   \n",
       "\n",
       "                     lag_5  lag_6  lag_7  ...  lag_16  lag_17  lag_18  lag_19  \\\n",
       "datetime                                  ...                                   \n",
       "2018-04-21 21:00:00   81.0   81.0   67.0  ...    43.0    80.0    70.0   110.0   \n",
       "2018-07-24 21:00:00  112.0  114.0  116.0  ...    66.0   104.0   144.0   101.0   \n",
       "2018-08-10 10:00:00   47.0  122.0   80.0  ...    90.0   178.0   150.0    80.0   \n",
       "\n",
       "                     lag_20  lag_21  lag_22  lag_23  lag_24  rolling_mean  \n",
       "datetime                                                                   \n",
       "2018-04-21 21:00:00   119.0   167.0    96.0   150.0   114.0       72.2500  \n",
       "2018-07-24 21:00:00   149.0   165.0    79.0   104.0   119.0      108.2500  \n",
       "2018-08-10 10:00:00    65.0    79.0   123.0    85.0   149.0      107.5625  \n",
       "\n",
       "[3 rows x 28 columns]"
      ]
     },
     "execution_count": 12,
     "metadata": {},
     "output_type": "execute_result"
    }
   ],
   "source": [
    "make_features(data, 24, 48)\n",
    "\n",
    "# удалим строки где есть пропуски. это нюанс временных рядов\n",
    "data = data.dropna()\n",
    "data.sample(3)"
   ]
  },
  {
   "cell_type": "markdown",
   "metadata": {},
   "source": [
    "Хорошо. Сделаем разбивку на обучающую и тестовую выборки. Размер тестовой выборки у нас будет `10%`."
   ]
  },
  {
   "cell_type": "code",
   "execution_count": 13,
   "metadata": {},
   "outputs": [],
   "source": [
    "features = data.drop('num_orders', axis=1)\n",
    "target = data['num_orders']"
   ]
  },
  {
   "cell_type": "code",
   "execution_count": 14,
   "metadata": {},
   "outputs": [
    {
     "name": "stdout",
     "output_type": "stream",
     "text": [
      "3931\n",
      "437\n"
     ]
    }
   ],
   "source": [
    "features_train, features_test, target_train, target_test  = train_test_split(\n",
    "    features, target, shuffle=False, test_size=0.1, random_state=12345)\n",
    "\n",
    "print(features_train.shape[0])\n",
    "print(features_test.shape[0])"
   ]
  },
  {
   "cell_type": "markdown",
   "metadata": {},
   "source": [
    "Будем работать с `3` моделями. `LinearRegression, CatBoost и RandomForestRegressor`. Для поиска лучших гиперпараметров будем использовать `GridSearchCV`."
   ]
  },
  {
   "cell_type": "markdown",
   "metadata": {},
   "source": [
    "Начнём с первой. `LinearRegression`."
   ]
  },
  {
   "cell_type": "code",
   "execution_count": 15,
   "metadata": {},
   "outputs": [
    {
     "name": "stdout",
     "output_type": "stream",
     "text": [
      "Параметры лучшей модели: {}\n",
      "RMSE лучшей модели: 27.440705735462803\n"
     ]
    }
   ],
   "source": [
    "model = LinearRegression()\n",
    "\n",
    "# используем TimeSeriesSplit для кросс-валидации временных рядов\n",
    "cv = TimeSeriesSplit(n_splits=5)\n",
    "\n",
    "# зададим параметры\n",
    "param_grid = {}\n",
    "\n",
    "def RMSE (y_true, y_pred):\n",
    "    return mean_squared_error(y_true, y_pred, squared=False)\n",
    "\n",
    "rmse_scorer = make_scorer(RMSE, greater_is_better=False)\n",
    "\n",
    "grid = GridSearchCV(model, param_grid, cv=cv, n_jobs=-1, scoring=rmse_scorer)\n",
    "grid.fit(features_train, target_train)\n",
    "\n",
    "RMSE_lr_train = grid.best_score_ * -1\n",
    "\n",
    "print('Параметры лучшей модели:', grid.best_params_)\n",
    "print('RMSE лучшей модели:', RMSE_lr_train)"
   ]
  },
  {
   "cell_type": "markdown",
   "metadata": {},
   "source": [
    "Вторая модель `CatBoost`."
   ]
  },
  {
   "cell_type": "code",
   "execution_count": 16,
   "metadata": {},
   "outputs": [
    {
     "name": "stdout",
     "output_type": "stream",
     "text": [
      "Параметры лучшей модели: {'depth': 7, 'learning_rate': 0.1}\n",
      "RMSE лучшей модели: 24.965429496761068\n"
     ]
    }
   ],
   "source": [
    "model = CatBoostRegressor(verbose=False, random_state=12345)\n",
    "\n",
    "# используем TimeSeriesSplit для кросс-валидации временных рядов\n",
    "cv = TimeSeriesSplit(n_splits=5)\n",
    "\n",
    "# зададим параметры\n",
    "param_grid = {'depth': range (1, 15, 2),\n",
    "              'learning_rate': np.arange (0.1, 0.5),\n",
    "             }\n",
    "\n",
    "def RMSE (y_true, y_pred):\n",
    "    return mean_squared_error(y_true, y_pred, squared=False)\n",
    "\n",
    "rmse_scorer = make_scorer(RMSE, greater_is_better=False)\n",
    "\n",
    "grid = GridSearchCV(model, param_grid, cv=cv, n_jobs=-1, scoring=rmse_scorer)\n",
    "grid.fit(features_train, target_train)\n",
    "\n",
    "RMSE_cbr_train = grid.best_score_ * -1\n",
    "\n",
    "print('Параметры лучшей модели:', grid.best_params_)\n",
    "print('RMSE лучшей модели:', RMSE_cbr_train)"
   ]
  },
  {
   "cell_type": "markdown",
   "metadata": {},
   "source": [
    "Третья модель `RandomForestRegressor`."
   ]
  },
  {
   "cell_type": "code",
   "execution_count": 17,
   "metadata": {},
   "outputs": [
    {
     "name": "stdout",
     "output_type": "stream",
     "text": [
      "Параметры лучшей модели: {'max_depth': 13, 'n_estimators': 300}\n",
      "RMSE лучшей модели: 25.79016311698706\n"
     ]
    }
   ],
   "source": [
    "model = RandomForestRegressor(random_state=12345)\n",
    "\n",
    "# используем TimeSeriesSplit для кросс-валидации временных рядов\n",
    "cv = TimeSeriesSplit(n_splits=5)\n",
    "\n",
    "# зададим параметры\n",
    "param_grid = {'n_estimators': range (100, 301, 100),\n",
    "              'max_depth': range (1, 15, 2),\n",
    "              #'min_samples_leaf': range (1, 8),\n",
    "              #'min_samples_split': range (2, 10, 2)\n",
    "             }\n",
    "\n",
    "def RMSE (y_true, y_pred):\n",
    "    return mean_squared_error(y_true, y_pred, squared=False)\n",
    "\n",
    "rmse_scorer = make_scorer(RMSE, greater_is_better=False)\n",
    "\n",
    "grid = GridSearchCV(model, param_grid, cv=cv, n_jobs=-1, scoring=rmse_scorer)\n",
    "grid.fit(features_train, target_train)\n",
    "\n",
    "RMSE_rfr_train = grid.best_score_ * -1\n",
    "\n",
    "print('Параметры лучшей модели:', grid.best_params_)\n",
    "print('RMSE лучшей модели:', RMSE_rfr_train)"
   ]
  },
  {
   "cell_type": "markdown",
   "metadata": {},
   "source": [
    "Составим таблицы для наглядности результатов."
   ]
  },
  {
   "cell_type": "code",
   "execution_count": 18,
   "metadata": {},
   "outputs": [
    {
     "data": {
      "text/html": [
       "<div>\n",
       "<style scoped>\n",
       "    .dataframe tbody tr th:only-of-type {\n",
       "        vertical-align: middle;\n",
       "    }\n",
       "\n",
       "    .dataframe tbody tr th {\n",
       "        vertical-align: top;\n",
       "    }\n",
       "\n",
       "    .dataframe thead th {\n",
       "        text-align: right;\n",
       "    }\n",
       "</style>\n",
       "<table border=\"1\" class=\"dataframe\">\n",
       "  <thead>\n",
       "    <tr style=\"text-align: right;\">\n",
       "      <th></th>\n",
       "      <th>Model</th>\n",
       "      <th>RMSE_train</th>\n",
       "    </tr>\n",
       "  </thead>\n",
       "  <tbody>\n",
       "    <tr>\n",
       "      <th>0</th>\n",
       "      <td>LinearRegression</td>\n",
       "      <td>27.440706</td>\n",
       "    </tr>\n",
       "    <tr>\n",
       "      <th>1</th>\n",
       "      <td>RandomForestRegressor</td>\n",
       "      <td>25.790163</td>\n",
       "    </tr>\n",
       "    <tr>\n",
       "      <th>2</th>\n",
       "      <td>CatBoostRegressor</td>\n",
       "      <td>24.965429</td>\n",
       "    </tr>\n",
       "  </tbody>\n",
       "</table>\n",
       "</div>"
      ],
      "text/plain": [
       "                   Model  RMSE_train\n",
       "0       LinearRegression   27.440706\n",
       "1  RandomForestRegressor   25.790163\n",
       "2      CatBoostRegressor   24.965429"
      ]
     },
     "execution_count": 18,
     "metadata": {},
     "output_type": "execute_result"
    }
   ],
   "source": [
    "tabledata = [[\"LinearRegression\", RMSE_lr_train],\n",
    "             [\"RandomForestRegressor\", RMSE_rfr_train],\n",
    "             [\"CatBoostRegressor\", RMSE_cbr_train]]\n",
    "df= pd.DataFrame(tabledata, columns=[\"Model\", \"RMSE_train\"])\n",
    "df"
   ]
  },
  {
   "cell_type": "markdown",
   "metadata": {},
   "source": [
    "**Вывод:** Перед началом обучения моделей мы добавили в таблицу новые признаки и разбили полученный датасет на обучающую и тестовую выборки. Соотношение `90/10`. Обучали `3` модели. `LinearRegression, CatBoost и RandomForestRegressor`. Для поиска лучших гиперпараметров использовали `GridSearchCV`. Как итог - лучшая модель CatBoostRegressor с RMSE 24.96. Параметры лучшей модели: {'depth': 7, 'learning_rate': 0.1}"
   ]
  },
  {
   "cell_type": "markdown",
   "metadata": {},
   "source": [
    "## Тестирование модели"
   ]
  },
  {
   "cell_type": "markdown",
   "metadata": {},
   "source": [
    "Теперь имея в распоряжении лучшие гиперпараметры протестируем модель на тестовой выборке."
   ]
  },
  {
   "cell_type": "code",
   "execution_count": 19,
   "metadata": {},
   "outputs": [
    {
     "name": "stdout",
     "output_type": "stream",
     "text": [
      "RMSE 41.02160598991008\n"
     ]
    }
   ],
   "source": [
    "model_cbr = CatBoostRegressor(depth=7, learning_rate=0.1, verbose=False, random_state=12345)\n",
    "model_cbr.fit(features_train, target_train)\n",
    "predicted = model_cbr.predict(features_test)\n",
    "\n",
    "RMSE_cbr_test = mean_squared_error(target_test, predicted, squared=False)\n",
    "print('RMSE', RMSE_cbr_test)"
   ]
  },
  {
   "cell_type": "markdown",
   "metadata": {},
   "source": [
    "**Вывод:** Результат модели на тестовой выборке `RMSE 41`. "
   ]
  },
  {
   "cell_type": "markdown",
   "metadata": {},
   "source": [
    "## Общий вывод"
   ]
  },
  {
   "cell_type": "markdown",
   "metadata": {},
   "source": [
    "В начале работы мы познакомились с данными. И провели предобработку, прежде чем обучать модели. Что именно было сделано:\n",
    "- в исходных данных у нас `2` стоблца; \n",
    "- пропуски и дубликаты отсутствуют; \n",
    "- по графику количества заказов мы заметили, что основные значения в диапазоне `от 0 до 20`;\n",
    "- первый столбец (`datetime`) с датой и временем перевели в соответствующий тип данных и обозначили его как индекс таблицы;\n",
    "- отсортировали индекс в хронологическом порядке и сделали ресемплирование данных по `1` часу."
   ]
  },
  {
   "cell_type": "markdown",
   "metadata": {},
   "source": [
    "При анализе данных мы посмотрели со стороны наличия трендов и сезонности и обраружили, что данные у нас на `2018 год и с марта по сентябрь`. Поэтому по годовой сезонности мы никакие выводы не смогли сделать, однако увидели некий тренд, который говорит, что `с июля по сентябрь закзов такси в аэропорты больше`. Так же мы посмотрели сезонность в масштабах недели. Взяли для этого срез данных - первые `20` дней апреля. Увидели, что наименьший поток заказов приходится на вторник недели, а пики заказов заметны в пятницу и понедельник. Далее мы создали ещё один столбец в котором выделили часы работы в течение суток. Построили график и увидели, что меньше всего заказов выпадает на `6` утра, а пиковая нагрузка на `полночь`."
   ]
  },
  {
   "cell_type": "markdown",
   "metadata": {},
   "source": [
    "Перед началом обучения моделей мы добавили в таблицу новые признаки и разбили полученный датасет на обучающую и тестовую выборки. Соотношение `90/10`. Обучали `3` модели. `LinearRegression, CatBoost и RandomForestRegressor`. Для поиска лучших гиперпараметров использовали `GridSearchCV`. Как итог - лучшая модель `CatBoostRegressor с RMSE 24.96`. Параметры лучшей модели: `{'depth': 7, 'learning_rate': 0.1}`"
   ]
  },
  {
   "cell_type": "code",
   "execution_count": 20,
   "metadata": {},
   "outputs": [
    {
     "data": {
      "text/html": [
       "<div>\n",
       "<style scoped>\n",
       "    .dataframe tbody tr th:only-of-type {\n",
       "        vertical-align: middle;\n",
       "    }\n",
       "\n",
       "    .dataframe tbody tr th {\n",
       "        vertical-align: top;\n",
       "    }\n",
       "\n",
       "    .dataframe thead th {\n",
       "        text-align: right;\n",
       "    }\n",
       "</style>\n",
       "<table border=\"1\" class=\"dataframe\">\n",
       "  <thead>\n",
       "    <tr style=\"text-align: right;\">\n",
       "      <th></th>\n",
       "      <th>Model</th>\n",
       "      <th>RMSE_train</th>\n",
       "    </tr>\n",
       "  </thead>\n",
       "  <tbody>\n",
       "    <tr>\n",
       "      <th>0</th>\n",
       "      <td>LinearRegression</td>\n",
       "      <td>27.440706</td>\n",
       "    </tr>\n",
       "    <tr>\n",
       "      <th>1</th>\n",
       "      <td>RandomForestRegressor</td>\n",
       "      <td>25.790163</td>\n",
       "    </tr>\n",
       "    <tr>\n",
       "      <th>2</th>\n",
       "      <td>CatBoostRegressor</td>\n",
       "      <td>24.965429</td>\n",
       "    </tr>\n",
       "  </tbody>\n",
       "</table>\n",
       "</div>"
      ],
      "text/plain": [
       "                   Model  RMSE_train\n",
       "0       LinearRegression   27.440706\n",
       "1  RandomForestRegressor   25.790163\n",
       "2      CatBoostRegressor   24.965429"
      ]
     },
     "execution_count": 20,
     "metadata": {},
     "output_type": "execute_result"
    }
   ],
   "source": [
    "tabledata = [[\"LinearRegression\", RMSE_lr_train],\n",
    "             [\"RandomForestRegressor\", RMSE_rfr_train],\n",
    "             [\"CatBoostRegressor\", RMSE_cbr_train]]\n",
    "df= pd.DataFrame(tabledata, columns=[\"Model\", \"RMSE_train\"])\n",
    "df"
   ]
  },
  {
   "cell_type": "markdown",
   "metadata": {},
   "source": [
    "На тестовой выборке резльтат модели `CatBoostRegressor - RMSE 41`."
   ]
  }
 ],
 "metadata": {
  "ExecuteTimeLog": [
   {
    "duration": 416,
    "start_time": "2023-03-16T05:30:56.820Z"
   },
   {
    "duration": 2,
    "start_time": "2023-03-16T05:33:56.408Z"
   },
   {
    "duration": 4,
    "start_time": "2023-03-16T05:33:56.728Z"
   },
   {
    "duration": 640,
    "start_time": "2023-03-16T05:33:57.124Z"
   },
   {
    "duration": 4,
    "start_time": "2023-03-16T05:34:30.514Z"
   },
   {
    "duration": 210,
    "start_time": "2023-03-16T05:34:31.221Z"
   },
   {
    "duration": 4,
    "start_time": "2023-03-16T05:34:38.384Z"
   },
   {
    "duration": 3,
    "start_time": "2023-03-16T05:34:47.692Z"
   },
   {
    "duration": 201,
    "start_time": "2023-03-16T05:34:52.592Z"
   },
   {
    "duration": 80,
    "start_time": "2023-03-16T05:42:47.148Z"
   },
   {
    "duration": 15,
    "start_time": "2023-03-16T05:42:50.928Z"
   },
   {
    "duration": 68,
    "start_time": "2023-03-16T05:42:56.526Z"
   },
   {
    "duration": 10,
    "start_time": "2023-03-16T05:43:07.743Z"
   },
   {
    "duration": 10,
    "start_time": "2023-03-16T05:43:25.840Z"
   },
   {
    "duration": 13,
    "start_time": "2023-03-16T05:46:29.943Z"
   },
   {
    "duration": 10,
    "start_time": "2023-03-16T05:48:47.912Z"
   },
   {
    "duration": 14,
    "start_time": "2023-03-16T05:51:26.487Z"
   },
   {
    "duration": 10,
    "start_time": "2023-03-16T05:51:47.068Z"
   },
   {
    "duration": 10,
    "start_time": "2023-03-16T06:02:25.184Z"
   },
   {
    "duration": 133,
    "start_time": "2023-03-16T06:02:30.745Z"
   },
   {
    "duration": 152,
    "start_time": "2023-03-16T06:02:52.085Z"
   },
   {
    "duration": 352,
    "start_time": "2023-03-16T06:02:59.637Z"
   },
   {
    "duration": 201,
    "start_time": "2023-03-16T06:04:10.315Z"
   },
   {
    "duration": 6,
    "start_time": "2023-03-16T06:07:47.649Z"
   },
   {
    "duration": 13,
    "start_time": "2023-03-16T06:07:51.930Z"
   },
   {
    "duration": 4,
    "start_time": "2023-03-16T06:08:34.271Z"
   },
   {
    "duration": 415,
    "start_time": "2023-03-16T06:09:17.630Z"
   },
   {
    "duration": 384,
    "start_time": "2023-03-16T06:09:33.477Z"
   },
   {
    "duration": 382,
    "start_time": "2023-03-16T06:09:42.806Z"
   },
   {
    "duration": 11,
    "start_time": "2023-03-16T06:10:05.000Z"
   },
   {
    "duration": 33069,
    "start_time": "2023-03-16T06:10:13.820Z"
   },
   {
    "duration": 425,
    "start_time": "2023-03-16T06:10:51.532Z"
   },
   {
    "duration": 129,
    "start_time": "2023-03-16T06:11:10.581Z"
   },
   {
    "duration": 7,
    "start_time": "2023-03-16T06:17:53.905Z"
   },
   {
    "duration": 3,
    "start_time": "2023-03-16T06:18:11.813Z"
   },
   {
    "duration": 168,
    "start_time": "2023-03-16T06:19:14.719Z"
   },
   {
    "duration": 178,
    "start_time": "2023-03-16T06:20:06.899Z"
   },
   {
    "duration": 179,
    "start_time": "2023-03-16T06:20:21.144Z"
   },
   {
    "duration": 225,
    "start_time": "2023-03-16T06:20:40.326Z"
   },
   {
    "duration": 510,
    "start_time": "2023-03-16T06:22:48.293Z"
   },
   {
    "duration": 269,
    "start_time": "2023-03-16T06:22:53.981Z"
   },
   {
    "duration": 322,
    "start_time": "2023-03-16T06:24:12.847Z"
   },
   {
    "duration": 288,
    "start_time": "2023-03-16T06:24:26.023Z"
   },
   {
    "duration": 37,
    "start_time": "2023-03-16T06:50:19.005Z"
   },
   {
    "duration": 88,
    "start_time": "2023-03-16T06:50:43.404Z"
   },
   {
    "duration": 29,
    "start_time": "2023-03-16T06:51:13.088Z"
   },
   {
    "duration": 10,
    "start_time": "2023-03-16T06:51:54.688Z"
   },
   {
    "duration": 102,
    "start_time": "2023-03-16T06:52:26.923Z"
   },
   {
    "duration": 18,
    "start_time": "2023-03-16T06:52:35.894Z"
   },
   {
    "duration": 15,
    "start_time": "2023-03-16T06:52:42.477Z"
   },
   {
    "duration": 15,
    "start_time": "2023-03-16T06:52:50.128Z"
   },
   {
    "duration": 6,
    "start_time": "2023-03-16T06:52:53.805Z"
   },
   {
    "duration": 9,
    "start_time": "2023-03-16T06:57:25.592Z"
   },
   {
    "duration": 4,
    "start_time": "2023-03-16T06:57:28.496Z"
   },
   {
    "duration": 1420,
    "start_time": "2023-03-16T06:57:29.389Z"
   },
   {
    "duration": 15,
    "start_time": "2023-03-16T07:01:27.054Z"
   },
   {
    "duration": 13,
    "start_time": "2023-03-16T07:01:40.800Z"
   },
   {
    "duration": 4,
    "start_time": "2023-03-16T07:01:58.850Z"
   },
   {
    "duration": 19,
    "start_time": "2023-03-16T07:02:02.051Z"
   },
   {
    "duration": 28,
    "start_time": "2023-03-16T07:02:07.400Z"
   },
   {
    "duration": 6,
    "start_time": "2023-03-16T07:03:26.555Z"
   },
   {
    "duration": 3,
    "start_time": "2023-03-16T07:03:26.570Z"
   },
   {
    "duration": 261,
    "start_time": "2023-03-16T07:03:26.578Z"
   },
   {
    "duration": 28,
    "start_time": "2023-03-16T07:03:26.841Z"
   },
   {
    "duration": 26,
    "start_time": "2023-03-16T07:03:26.871Z"
   },
   {
    "duration": 5,
    "start_time": "2023-03-16T07:03:26.899Z"
   },
   {
    "duration": 314,
    "start_time": "2023-03-16T07:03:26.907Z"
   },
   {
    "duration": 4,
    "start_time": "2023-03-16T07:03:27.223Z"
   },
   {
    "duration": 7,
    "start_time": "2023-03-16T07:03:27.229Z"
   },
   {
    "duration": 49,
    "start_time": "2023-03-16T07:03:27.237Z"
   },
   {
    "duration": 76,
    "start_time": "2023-03-16T07:05:39.284Z"
   },
   {
    "duration": 9,
    "start_time": "2023-03-16T07:08:02.223Z"
   },
   {
    "duration": 21,
    "start_time": "2023-03-16T07:08:12.055Z"
   },
   {
    "duration": 5,
    "start_time": "2023-03-16T07:08:16.141Z"
   },
   {
    "duration": 6,
    "start_time": "2023-03-16T07:08:17.516Z"
   },
   {
    "duration": 10,
    "start_time": "2023-03-16T07:08:23.786Z"
   },
   {
    "duration": 10,
    "start_time": "2023-03-16T07:08:42.194Z"
   },
   {
    "duration": 1299,
    "start_time": "2023-03-16T07:09:03.710Z"
   },
   {
    "duration": 4,
    "start_time": "2023-03-16T07:09:05.012Z"
   },
   {
    "duration": 282,
    "start_time": "2023-03-16T07:09:05.017Z"
   },
   {
    "duration": 12,
    "start_time": "2023-03-16T07:09:05.302Z"
   },
   {
    "duration": 15,
    "start_time": "2023-03-16T07:09:05.317Z"
   },
   {
    "duration": 42,
    "start_time": "2023-03-16T07:09:05.334Z"
   },
   {
    "duration": 303,
    "start_time": "2023-03-16T07:09:05.382Z"
   },
   {
    "duration": 5,
    "start_time": "2023-03-16T07:09:05.693Z"
   },
   {
    "duration": 5,
    "start_time": "2023-03-16T07:09:05.700Z"
   },
   {
    "duration": 30,
    "start_time": "2023-03-16T07:09:05.707Z"
   },
   {
    "duration": 4,
    "start_time": "2023-03-16T07:09:05.738Z"
   },
   {
    "duration": 158,
    "start_time": "2023-03-16T07:09:05.744Z"
   },
   {
    "duration": 0,
    "start_time": "2023-03-16T07:09:05.903Z"
   },
   {
    "duration": 0,
    "start_time": "2023-03-16T07:09:05.905Z"
   },
   {
    "duration": 7,
    "start_time": "2023-03-16T07:09:24.836Z"
   },
   {
    "duration": 10,
    "start_time": "2023-03-16T07:09:26.108Z"
   },
   {
    "duration": 45,
    "start_time": "2023-03-16T07:09:33.336Z"
   },
   {
    "duration": 9,
    "start_time": "2023-03-16T07:09:51.604Z"
   },
   {
    "duration": 5,
    "start_time": "2023-03-16T07:10:04.530Z"
   },
   {
    "duration": 9,
    "start_time": "2023-03-16T08:40:58.232Z"
   },
   {
    "duration": 6,
    "start_time": "2023-03-16T08:41:48.468Z"
   },
   {
    "duration": 16,
    "start_time": "2023-03-16T08:41:51.476Z"
   },
   {
    "duration": 85,
    "start_time": "2023-03-16T08:42:02.080Z"
   },
   {
    "duration": 18,
    "start_time": "2023-03-16T08:42:08.592Z"
   },
   {
    "duration": 4,
    "start_time": "2023-03-16T08:46:38.343Z"
   },
   {
    "duration": 144096,
    "start_time": "2023-03-16T08:59:23.472Z"
   },
   {
    "duration": 286789,
    "start_time": "2023-03-16T09:06:23.100Z"
   },
   {
    "duration": 81,
    "start_time": "2023-03-16T09:11:21.325Z"
   },
   {
    "duration": 76,
    "start_time": "2023-03-16T09:11:40.672Z"
   },
   {
    "duration": 66,
    "start_time": "2023-03-16T09:11:47.085Z"
   },
   {
    "duration": 247205,
    "start_time": "2023-03-16T09:12:18.528Z"
   },
   {
    "duration": 245234,
    "start_time": "2023-03-16T09:17:12.457Z"
   },
   {
    "duration": 5237,
    "start_time": "2023-03-16T09:30:51.431Z"
   },
   {
    "duration": 244848,
    "start_time": "2023-03-16T09:31:05.974Z"
   },
   {
    "duration": 5790,
    "start_time": "2023-03-16T09:36:32.242Z"
   },
   {
    "duration": 97,
    "start_time": "2023-03-16T09:38:06.209Z"
   },
   {
    "duration": 94,
    "start_time": "2023-03-16T09:38:19.728Z"
   },
   {
    "duration": 246842,
    "start_time": "2023-03-16T09:44:54.814Z"
   },
   {
    "duration": 167,
    "start_time": "2023-03-16T09:49:32.322Z"
   },
   {
    "duration": 165,
    "start_time": "2023-03-16T09:49:42.465Z"
   },
   {
    "duration": 161,
    "start_time": "2023-03-16T09:49:50.493Z"
   },
   {
    "duration": 1226,
    "start_time": "2023-03-16T13:33:13.502Z"
   },
   {
    "duration": 4,
    "start_time": "2023-03-16T13:33:14.732Z"
   },
   {
    "duration": 258,
    "start_time": "2023-03-16T13:33:14.738Z"
   },
   {
    "duration": 12,
    "start_time": "2023-03-16T13:33:14.998Z"
   },
   {
    "duration": 34,
    "start_time": "2023-03-16T13:33:15.012Z"
   },
   {
    "duration": 10,
    "start_time": "2023-03-16T13:33:15.048Z"
   },
   {
    "duration": 264,
    "start_time": "2023-03-16T13:33:15.060Z"
   },
   {
    "duration": 5,
    "start_time": "2023-03-16T13:33:15.325Z"
   },
   {
    "duration": 20,
    "start_time": "2023-03-16T13:33:15.332Z"
   },
   {
    "duration": 41,
    "start_time": "2023-03-16T13:33:15.354Z"
   },
   {
    "duration": 5,
    "start_time": "2023-03-16T13:33:15.396Z"
   },
   {
    "duration": 10,
    "start_time": "2023-03-16T13:33:15.403Z"
   },
   {
    "duration": 149,
    "start_time": "2023-03-16T13:33:15.415Z"
   },
   {
    "duration": 250006,
    "start_time": "2023-03-16T13:33:15.566Z"
   },
   {
    "duration": 3,
    "start_time": "2023-03-16T13:37:25.574Z"
   },
   {
    "duration": 49,
    "start_time": "2023-03-17T04:09:47.994Z"
   },
   {
    "duration": 1672,
    "start_time": "2023-03-17T04:09:58.553Z"
   },
   {
    "duration": 3,
    "start_time": "2023-03-17T04:10:00.227Z"
   },
   {
    "duration": 318,
    "start_time": "2023-03-17T04:10:00.232Z"
   },
   {
    "duration": 28,
    "start_time": "2023-03-17T04:10:00.553Z"
   },
   {
    "duration": 40,
    "start_time": "2023-03-17T04:10:00.584Z"
   },
   {
    "duration": 23,
    "start_time": "2023-03-17T04:10:00.626Z"
   },
   {
    "duration": 320,
    "start_time": "2023-03-17T04:10:00.652Z"
   },
   {
    "duration": 4,
    "start_time": "2023-03-17T04:10:00.974Z"
   },
   {
    "duration": 25,
    "start_time": "2023-03-17T04:10:00.980Z"
   },
   {
    "duration": 54,
    "start_time": "2023-03-17T04:10:01.006Z"
   },
   {
    "duration": 4,
    "start_time": "2023-03-17T04:10:01.061Z"
   },
   {
    "duration": 51,
    "start_time": "2023-03-17T04:10:01.067Z"
   },
   {
    "duration": 159,
    "start_time": "2023-03-17T04:10:01.120Z"
   },
   {
    "duration": 595609,
    "start_time": "2023-03-17T04:10:01.282Z"
   },
   {
    "duration": 2,
    "start_time": "2023-03-17T04:19:56.893Z"
   },
   {
    "duration": 323,
    "start_time": "2023-03-17T04:22:31.965Z"
   },
   {
    "duration": 325,
    "start_time": "2023-03-17T04:23:36.478Z"
   },
   {
    "duration": 4,
    "start_time": "2023-03-17T04:25:22.202Z"
   },
   {
    "duration": 7359,
    "start_time": "2023-03-17T04:26:32.029Z"
   },
   {
    "duration": 7346,
    "start_time": "2023-03-17T04:26:58.364Z"
   },
   {
    "duration": 320,
    "start_time": "2023-03-17T04:27:36.974Z"
   },
   {
    "duration": 7308,
    "start_time": "2023-03-17T04:28:16.654Z"
   },
   {
    "duration": 316,
    "start_time": "2023-03-17T04:30:29.894Z"
   },
   {
    "duration": 93126,
    "start_time": "2023-03-17T04:31:43.423Z"
   },
   {
    "duration": 208446,
    "start_time": "2023-03-17T04:38:21.956Z"
   },
   {
    "duration": 3,
    "start_time": "2023-03-17T04:44:04.869Z"
   },
   {
    "duration": 3,
    "start_time": "2023-03-17T04:44:54.974Z"
   },
   {
    "duration": 4,
    "start_time": "2023-03-17T04:47:48.700Z"
   },
   {
    "duration": 6,
    "start_time": "2023-03-17T04:48:10.476Z"
   },
   {
    "duration": 4,
    "start_time": "2023-03-17T04:48:34.900Z"
   },
   {
    "duration": 4,
    "start_time": "2023-03-17T04:49:41.604Z"
   },
   {
    "duration": 124,
    "start_time": "2023-03-17T04:50:16.476Z"
   },
   {
    "duration": 237688,
    "start_time": "2023-03-17T04:52:09.812Z"
   },
   {
    "duration": 6,
    "start_time": "2023-03-17T04:59:45.732Z"
   },
   {
    "duration": 239843,
    "start_time": "2023-03-17T05:03:39.834Z"
   },
   {
    "duration": 3,
    "start_time": "2023-03-17T05:08:28.716Z"
   },
   {
    "duration": 4,
    "start_time": "2023-03-17T05:10:03.227Z"
   },
   {
    "duration": 4,
    "start_time": "2023-03-17T05:10:05.652Z"
   },
   {
    "duration": 4,
    "start_time": "2023-03-17T05:10:17.531Z"
   },
   {
    "duration": 595,
    "start_time": "2023-03-17T05:10:25.196Z"
   },
   {
    "duration": 14,
    "start_time": "2023-03-17T05:25:59.127Z"
   },
   {
    "duration": 606,
    "start_time": "2023-03-17T05:26:40.540Z"
   },
   {
    "duration": 8019,
    "start_time": "2023-03-17T05:27:17.747Z"
   },
   {
    "duration": 7527,
    "start_time": "2023-03-17T05:27:28.331Z"
   },
   {
    "duration": 49,
    "start_time": "2023-03-17T05:30:26.868Z"
   },
   {
    "duration": 7619,
    "start_time": "2023-03-17T05:30:32.630Z"
   },
   {
    "duration": 61,
    "start_time": "2023-03-17T05:48:08.546Z"
   },
   {
    "duration": 48,
    "start_time": "2023-03-17T05:48:16.403Z"
   },
   {
    "duration": 24581,
    "start_time": "2023-03-17T05:48:27.045Z"
   },
   {
    "duration": 13,
    "start_time": "2023-03-17T05:49:36.093Z"
   },
   {
    "duration": 27877,
    "start_time": "2023-03-17T05:50:12.435Z"
   },
   {
    "duration": 3862,
    "start_time": "2023-03-17T05:53:15.878Z"
   },
   {
    "duration": 28,
    "start_time": "2023-03-17T06:02:56.403Z"
   },
   {
    "duration": 57,
    "start_time": "2023-03-17T06:03:04.397Z"
   },
   {
    "duration": 47,
    "start_time": "2023-03-17T06:03:12.250Z"
   },
   {
    "duration": 71,
    "start_time": "2023-03-17T06:03:17.234Z"
   },
   {
    "duration": 86,
    "start_time": "2023-03-17T06:03:40.860Z"
   },
   {
    "duration": 34,
    "start_time": "2023-03-17T06:04:18.211Z"
   },
   {
    "duration": 8792,
    "start_time": "2023-03-17T06:05:13.708Z"
   },
   {
    "duration": 1601822,
    "start_time": "2023-03-17T06:05:27.907Z"
   },
   {
    "duration": 3569,
    "start_time": "2023-03-17T07:14:10.427Z"
   },
   {
    "duration": 3881,
    "start_time": "2023-03-17T07:14:23.194Z"
   },
   {
    "duration": 1676,
    "start_time": "2023-03-17T07:16:15.582Z"
   },
   {
    "duration": 7,
    "start_time": "2023-03-17T07:16:17.260Z"
   },
   {
    "duration": 336,
    "start_time": "2023-03-17T07:16:17.269Z"
   },
   {
    "duration": 13,
    "start_time": "2023-03-17T07:16:17.607Z"
   },
   {
    "duration": 38,
    "start_time": "2023-03-17T07:16:17.623Z"
   },
   {
    "duration": 18,
    "start_time": "2023-03-17T07:16:17.663Z"
   },
   {
    "duration": 349,
    "start_time": "2023-03-17T07:16:17.683Z"
   },
   {
    "duration": 5,
    "start_time": "2023-03-17T07:16:18.034Z"
   },
   {
    "duration": 9,
    "start_time": "2023-03-17T07:16:18.041Z"
   },
   {
    "duration": 73,
    "start_time": "2023-03-17T07:16:18.052Z"
   },
   {
    "duration": 4,
    "start_time": "2023-03-17T07:16:18.128Z"
   },
   {
    "duration": 12,
    "start_time": "2023-03-17T07:16:18.135Z"
   },
   {
    "duration": 330,
    "start_time": "2023-03-17T07:16:18.149Z"
   },
   {
    "duration": 3361590,
    "start_time": "2023-03-17T07:16:18.484Z"
   },
   {
    "duration": 5113,
    "start_time": "2023-03-17T08:12:20.076Z"
   },
   {
    "duration": 138,
    "start_time": "2023-03-17T08:12:25.191Z"
   },
   {
    "duration": 0,
    "start_time": "2023-03-17T08:12:25.330Z"
   },
   {
    "duration": 4419,
    "start_time": "2023-03-17T08:24:14.610Z"
   },
   {
    "duration": 479095,
    "start_time": "2023-03-17T08:24:29.428Z"
   },
   {
    "duration": 12894,
    "start_time": "2023-03-17T08:56:04.032Z"
   },
   {
    "duration": 14554,
    "start_time": "2023-03-17T08:56:45.280Z"
   },
   {
    "duration": 36,
    "start_time": "2023-03-17T08:57:51.744Z"
   },
   {
    "duration": 169,
    "start_time": "2023-03-17T08:58:12.408Z"
   },
   {
    "duration": 3694,
    "start_time": "2023-03-17T12:22:11.949Z"
   },
   {
    "duration": 4,
    "start_time": "2023-03-17T12:22:15.645Z"
   },
   {
    "duration": 381,
    "start_time": "2023-03-17T12:22:15.651Z"
   },
   {
    "duration": 12,
    "start_time": "2023-03-17T12:22:16.035Z"
   },
   {
    "duration": 43,
    "start_time": "2023-03-17T12:22:16.049Z"
   },
   {
    "duration": 22,
    "start_time": "2023-03-17T12:22:16.102Z"
   },
   {
    "duration": 352,
    "start_time": "2023-03-17T12:22:16.126Z"
   },
   {
    "duration": 13,
    "start_time": "2023-03-17T12:22:16.480Z"
   },
   {
    "duration": 47,
    "start_time": "2023-03-17T12:22:16.498Z"
   },
   {
    "duration": 100,
    "start_time": "2023-03-17T12:22:16.549Z"
   },
   {
    "duration": 6,
    "start_time": "2023-03-17T12:22:16.650Z"
   },
   {
    "duration": 21,
    "start_time": "2023-03-17T12:22:16.658Z"
   },
   {
    "duration": 214,
    "start_time": "2023-03-17T12:22:16.682Z"
   },
   {
    "duration": 1921,
    "start_time": "2023-03-19T07:25:34.509Z"
   },
   {
    "duration": 300,
    "start_time": "2023-03-19T07:26:56.498Z"
   },
   {
    "duration": 25,
    "start_time": "2023-03-19T07:27:02.973Z"
   },
   {
    "duration": 8,
    "start_time": "2023-03-19T07:27:17.775Z"
   },
   {
    "duration": 27,
    "start_time": "2023-03-19T07:27:17.786Z"
   },
   {
    "duration": 404,
    "start_time": "2023-03-19T07:27:17.816Z"
   },
   {
    "duration": 14,
    "start_time": "2023-03-19T07:27:18.223Z"
   },
   {
    "duration": 20,
    "start_time": "2023-03-19T07:27:18.239Z"
   },
   {
    "duration": 28,
    "start_time": "2023-03-19T07:27:18.261Z"
   },
   {
    "duration": 347,
    "start_time": "2023-03-19T07:27:18.291Z"
   },
   {
    "duration": 50,
    "start_time": "2023-03-19T07:27:18.640Z"
   },
   {
    "duration": 0,
    "start_time": "2023-03-19T07:27:18.694Z"
   },
   {
    "duration": 27,
    "start_time": "2023-03-19T07:28:02.031Z"
   },
   {
    "duration": 13,
    "start_time": "2023-03-19T07:29:00.339Z"
   },
   {
    "duration": 26,
    "start_time": "2023-03-19T07:29:07.822Z"
   },
   {
    "duration": 291,
    "start_time": "2023-03-19T07:29:23.368Z"
   },
   {
    "duration": 21,
    "start_time": "2023-03-19T07:30:59.844Z"
   },
   {
    "duration": 6,
    "start_time": "2023-03-19T07:32:00.053Z"
   },
   {
    "duration": 33,
    "start_time": "2023-03-19T07:32:07.571Z"
   },
   {
    "duration": 860,
    "start_time": "2023-03-19T07:33:30.170Z"
   },
   {
    "duration": 5,
    "start_time": "2023-03-19T07:33:43.285Z"
   },
   {
    "duration": 5,
    "start_time": "2023-03-19T07:33:44.056Z"
   },
   {
    "duration": 259,
    "start_time": "2023-03-19T07:33:44.886Z"
   },
   {
    "duration": 12,
    "start_time": "2023-03-19T07:33:48.799Z"
   },
   {
    "duration": 12,
    "start_time": "2023-03-19T07:33:53.117Z"
   },
   {
    "duration": 6,
    "start_time": "2023-03-19T07:33:55.787Z"
   },
   {
    "duration": 296,
    "start_time": "2023-03-19T07:33:56.280Z"
   },
   {
    "duration": 22,
    "start_time": "2023-03-19T07:34:00.201Z"
   },
   {
    "duration": 5,
    "start_time": "2023-03-19T07:34:17.393Z"
   },
   {
    "duration": 4,
    "start_time": "2023-03-19T07:34:17.881Z"
   },
   {
    "duration": 256,
    "start_time": "2023-03-19T07:34:18.426Z"
   },
   {
    "duration": 13,
    "start_time": "2023-03-19T07:34:20.487Z"
   },
   {
    "duration": 17,
    "start_time": "2023-03-19T07:34:25.365Z"
   },
   {
    "duration": 14,
    "start_time": "2023-03-19T07:34:34.682Z"
   },
   {
    "duration": 9,
    "start_time": "2023-03-19T07:34:44.265Z"
   },
   {
    "duration": 1250,
    "start_time": "2023-03-19T07:34:52.325Z"
   },
   {
    "duration": 6,
    "start_time": "2023-03-19T07:35:04.979Z"
   },
   {
    "duration": 21,
    "start_time": "2023-03-19T07:35:08.719Z"
   },
   {
    "duration": 4,
    "start_time": "2023-03-19T07:35:27.327Z"
   },
   {
    "duration": 4,
    "start_time": "2023-03-19T07:35:27.712Z"
   },
   {
    "duration": 268,
    "start_time": "2023-03-19T07:35:27.995Z"
   },
   {
    "duration": 11,
    "start_time": "2023-03-19T07:35:28.552Z"
   },
   {
    "duration": 13,
    "start_time": "2023-03-19T07:35:29.526Z"
   },
   {
    "duration": 8,
    "start_time": "2023-03-19T07:36:16.122Z"
   },
   {
    "duration": 1206,
    "start_time": "2023-03-19T07:37:27.493Z"
   },
   {
    "duration": 1187,
    "start_time": "2023-03-19T07:37:34.034Z"
   },
   {
    "duration": 68,
    "start_time": "2023-03-19T07:41:29.721Z"
   },
   {
    "duration": 514,
    "start_time": "2023-03-19T07:42:18.909Z"
   },
   {
    "duration": 551,
    "start_time": "2023-03-19T07:42:35.292Z"
   },
   {
    "duration": 383,
    "start_time": "2023-03-19T07:43:14.193Z"
   },
   {
    "duration": 742,
    "start_time": "2023-03-19T07:43:25.465Z"
   },
   {
    "duration": 207,
    "start_time": "2023-03-19T07:45:40.745Z"
   },
   {
    "duration": 6,
    "start_time": "2023-03-19T07:45:59.244Z"
   },
   {
    "duration": 4,
    "start_time": "2023-03-19T07:45:59.793Z"
   },
   {
    "duration": 305,
    "start_time": "2023-03-19T07:46:00.395Z"
   },
   {
    "duration": 13,
    "start_time": "2023-03-19T07:46:03.216Z"
   },
   {
    "duration": 15,
    "start_time": "2023-03-19T07:46:08.197Z"
   },
   {
    "duration": 236,
    "start_time": "2023-03-19T07:46:13.966Z"
   },
   {
    "duration": 13,
    "start_time": "2023-03-19T07:46:46.096Z"
   },
   {
    "duration": 1233,
    "start_time": "2023-03-19T07:46:55.767Z"
   },
   {
    "duration": 222,
    "start_time": "2023-03-19T07:47:01.323Z"
   },
   {
    "duration": 253,
    "start_time": "2023-03-19T07:48:14.606Z"
   },
   {
    "duration": 11,
    "start_time": "2023-03-19T07:48:16.289Z"
   },
   {
    "duration": 187,
    "start_time": "2023-03-19T07:48:21.669Z"
   },
   {
    "duration": 374,
    "start_time": "2023-03-19T07:48:45.217Z"
   },
   {
    "duration": 301,
    "start_time": "2023-03-19T07:49:36.483Z"
   },
   {
    "duration": 280,
    "start_time": "2023-03-19T07:49:42.812Z"
   },
   {
    "duration": 12,
    "start_time": "2023-03-19T07:51:17.529Z"
   },
   {
    "duration": 1181,
    "start_time": "2023-03-19T07:51:20.337Z"
   },
   {
    "duration": 275,
    "start_time": "2023-03-19T07:51:29.073Z"
   },
   {
    "duration": 272,
    "start_time": "2023-03-19T07:51:45.999Z"
   },
   {
    "duration": 14,
    "start_time": "2023-03-19T07:51:47.507Z"
   },
   {
    "duration": 13,
    "start_time": "2023-03-19T07:51:48.606Z"
   },
   {
    "duration": 1256,
    "start_time": "2023-03-19T07:51:51.879Z"
   },
   {
    "duration": 267,
    "start_time": "2023-03-19T07:52:26.972Z"
   },
   {
    "duration": 12,
    "start_time": "2023-03-19T08:05:20.176Z"
   },
   {
    "duration": 4,
    "start_time": "2023-03-19T08:05:29.986Z"
   },
   {
    "duration": 44,
    "start_time": "2023-03-19T08:05:32.644Z"
   },
   {
    "duration": 5,
    "start_time": "2023-03-19T08:05:34.370Z"
   },
   {
    "duration": 7,
    "start_time": "2023-03-19T08:05:35.083Z"
   },
   {
    "duration": 468,
    "start_time": "2023-03-19T08:05:37.314Z"
   },
   {
    "duration": 1018,
    "start_time": "2023-03-19T08:05:46.169Z"
   },
   {
    "duration": 972,
    "start_time": "2023-03-19T08:05:55.710Z"
   },
   {
    "duration": 4,
    "start_time": "2023-03-19T08:10:18.332Z"
   },
   {
    "duration": 1802,
    "start_time": "2023-03-19T08:27:59.948Z"
   },
   {
    "duration": 5,
    "start_time": "2023-03-19T08:28:01.753Z"
   },
   {
    "duration": 345,
    "start_time": "2023-03-19T08:28:01.760Z"
   },
   {
    "duration": 19,
    "start_time": "2023-03-19T08:28:02.108Z"
   },
   {
    "duration": 77,
    "start_time": "2023-03-19T08:28:02.131Z"
   },
   {
    "duration": 1397,
    "start_time": "2023-03-19T08:28:02.210Z"
   },
   {
    "duration": 309,
    "start_time": "2023-03-19T08:28:03.610Z"
   },
   {
    "duration": 5,
    "start_time": "2023-03-19T08:28:03.922Z"
   },
   {
    "duration": 309,
    "start_time": "2023-03-19T08:28:03.929Z"
   },
   {
    "duration": 6,
    "start_time": "2023-03-19T08:28:04.241Z"
   },
   {
    "duration": 19,
    "start_time": "2023-03-19T08:28:04.249Z"
   },
   {
    "duration": 54,
    "start_time": "2023-03-19T08:28:04.270Z"
   },
   {
    "duration": 5,
    "start_time": "2023-03-19T08:28:04.326Z"
   },
   {
    "duration": 22,
    "start_time": "2023-03-19T08:28:04.333Z"
   },
   {
    "duration": 828,
    "start_time": "2023-03-19T08:28:04.357Z"
   },
   {
    "duration": 3090160,
    "start_time": "2023-03-19T08:28:05.188Z"
   },
   {
    "duration": 297326,
    "start_time": "2023-03-19T09:19:35.350Z"
   },
   {
    "duration": 127,
    "start_time": "2023-03-19T09:24:32.681Z"
   },
   {
    "duration": 14409,
    "start_time": "2023-03-19T09:24:32.817Z"
   },
   {
    "duration": 14275,
    "start_time": "2023-03-19T09:24:47.228Z"
   },
   {
    "duration": 14,
    "start_time": "2023-03-19T09:25:01.506Z"
   },
   {
    "duration": 49,
    "start_time": "2023-03-19T09:25:01.522Z"
   },
   {
    "duration": 2660,
    "start_time": "2023-03-20T08:15:20.544Z"
   },
   {
    "duration": 6,
    "start_time": "2023-03-20T08:15:23.206Z"
   },
   {
    "duration": 485,
    "start_time": "2023-03-20T08:15:23.214Z"
   },
   {
    "duration": 14,
    "start_time": "2023-03-20T08:15:23.701Z"
   },
   {
    "duration": 48,
    "start_time": "2023-03-20T08:15:23.717Z"
   },
   {
    "duration": 1470,
    "start_time": "2023-03-20T08:15:23.767Z"
   },
   {
    "duration": 380,
    "start_time": "2023-03-20T08:15:25.239Z"
   },
   {
    "duration": 4,
    "start_time": "2023-03-20T08:15:25.621Z"
   },
   {
    "duration": 377,
    "start_time": "2023-03-20T08:15:25.627Z"
   },
   {
    "duration": 4,
    "start_time": "2023-03-20T08:15:26.007Z"
   },
   {
    "duration": 7,
    "start_time": "2023-03-20T08:15:26.013Z"
   },
   {
    "duration": 88,
    "start_time": "2023-03-20T08:15:26.022Z"
   },
   {
    "duration": 4,
    "start_time": "2023-03-20T08:15:26.112Z"
   },
   {
    "duration": 8,
    "start_time": "2023-03-20T08:15:26.118Z"
   },
   {
    "duration": 1055,
    "start_time": "2023-03-20T08:15:26.128Z"
   },
   {
    "duration": 3089631,
    "start_time": "2023-03-20T08:15:27.197Z"
   },
   {
    "duration": 331235,
    "start_time": "2023-03-20T09:06:56.830Z"
   },
   {
    "duration": 15,
    "start_time": "2023-03-20T09:12:28.066Z"
   },
   {
    "duration": 14561,
    "start_time": "2023-03-20T09:12:28.083Z"
   },
   {
    "duration": 29,
    "start_time": "2023-03-20T09:12:42.652Z"
   }
  ],
  "kernelspec": {
   "display_name": "Python 3 (ipykernel)",
   "language": "python",
   "name": "python3"
  },
  "language_info": {
   "codemirror_mode": {
    "name": "ipython",
    "version": 3
   },
   "file_extension": ".py",
   "mimetype": "text/x-python",
   "name": "python",
   "nbconvert_exporter": "python",
   "pygments_lexer": "ipython3",
   "version": "3.9.7"
  },
  "toc": {
   "base_numbering": 1,
   "nav_menu": {},
   "number_sections": true,
   "sideBar": true,
   "skip_h1_title": true,
   "title_cell": "Содержание",
   "title_sidebar": "Contents",
   "toc_cell": false,
   "toc_position": {
    "height": "calc(100% - 180px)",
    "left": "10px",
    "top": "150px",
    "width": "533px"
   },
   "toc_section_display": true,
   "toc_window_display": true
  },
  "varInspector": {
   "cols": {
    "lenName": 16,
    "lenType": 16,
    "lenVar": 40
   },
   "kernels_config": {
    "python": {
     "delete_cmd_postfix": "",
     "delete_cmd_prefix": "del ",
     "library": "var_list.py",
     "varRefreshCmd": "print(var_dic_list())"
    },
    "r": {
     "delete_cmd_postfix": ") ",
     "delete_cmd_prefix": "rm(",
     "library": "var_list.r",
     "varRefreshCmd": "cat(var_dic_list()) "
    }
   },
   "types_to_exclude": [
    "module",
    "function",
    "builtin_function_or_method",
    "instance",
    "_Feature"
   ],
   "window_display": false
  }
 },
 "nbformat": 4,
 "nbformat_minor": 2
}
